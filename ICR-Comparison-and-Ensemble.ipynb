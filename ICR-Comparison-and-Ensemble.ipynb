{
 "cells": [
  {
   "cell_type": "markdown",
   "id": "83699d31",
   "metadata": {},
   "source": [
    "# ICR - Identifying Age-Related Conditions\n",
    "## Using Machine Learning to detect conditions with measurements of anonymous characteristics"
   ]
  },
  {
   "cell_type": "markdown",
   "id": "530c0391",
   "metadata": {},
   "source": [
    "In this notebook, we evaluate the validation results from the trained models: \n",
    "\n",
    "* **TabTransformer** w/ SMOTE\n",
    "* **SVM** w/ SMOTE\n",
    "* **XGBoost** w/ SMOTE\n",
    "\n",
    "We first load in the validation probability estimates from each model..."
   ]
  },
  {
   "cell_type": "code",
   "execution_count": 1,
   "id": "dbbe781f",
   "metadata": {},
   "outputs": [
    {
     "ename": "FileNotFoundError",
     "evalue": "[Errno 2] No such file or directory: 'train_pred_probs/amzn-tab-trans.csv'",
     "output_type": "error",
     "traceback": [
      "\u001b[0;31m---------------------------------------------------------------------------\u001b[0m",
      "\u001b[0;31mFileNotFoundError\u001b[0m                         Traceback (most recent call last)",
      "Cell \u001b[0;32mIn[1], line 18\u001b[0m\n\u001b[1;32m     15\u001b[0m XGB_VAL_PROBS \u001b[38;5;241m=\u001b[39m pd\u001b[38;5;241m.\u001b[39mread_csv(\u001b[38;5;124m'\u001b[39m\u001b[38;5;124mval_pred_probs/xgboost-tuned.csv\u001b[39m\u001b[38;5;124m'\u001b[39m)\u001b[38;5;241m.\u001b[39mto_numpy()\n\u001b[1;32m     17\u001b[0m \u001b[38;5;66;03m# load training results\u001b[39;00m\n\u001b[0;32m---> 18\u001b[0m TABTR_TRAIN_PROBS \u001b[38;5;241m=\u001b[39m \u001b[43mpd\u001b[49m\u001b[38;5;241;43m.\u001b[39;49m\u001b[43mread_csv\u001b[49m\u001b[43m(\u001b[49m\u001b[38;5;124;43m'\u001b[39;49m\u001b[38;5;124;43mtrain_pred_probs/amzn-tab-trans.csv\u001b[39;49m\u001b[38;5;124;43m'\u001b[39;49m\u001b[43m)\u001b[49m\u001b[38;5;241m.\u001b[39mto_numpy()\n\u001b[1;32m     19\u001b[0m SVM_TRAIN_PROBS \u001b[38;5;241m=\u001b[39m pd\u001b[38;5;241m.\u001b[39mread_csv(\u001b[38;5;124m'\u001b[39m\u001b[38;5;124mtrain_pred_probs/svm-tuned.csv\u001b[39m\u001b[38;5;124m'\u001b[39m)\u001b[38;5;241m.\u001b[39mto_numpy()\n\u001b[1;32m     20\u001b[0m XGB_TRAIN_PROBS \u001b[38;5;241m=\u001b[39m pd\u001b[38;5;241m.\u001b[39mread_csv(\u001b[38;5;124m'\u001b[39m\u001b[38;5;124mtrain_pred_probs/xgboost-tuned.csv\u001b[39m\u001b[38;5;124m'\u001b[39m)\u001b[38;5;241m.\u001b[39mto_numpy()\n",
      "File \u001b[0;32m~/opt/anaconda3/envs/pt/lib/python3.10/site-packages/pandas/util/_decorators.py:311\u001b[0m, in \u001b[0;36mdeprecate_nonkeyword_arguments.<locals>.decorate.<locals>.wrapper\u001b[0;34m(*args, **kwargs)\u001b[0m\n\u001b[1;32m    305\u001b[0m \u001b[38;5;28;01mif\u001b[39;00m \u001b[38;5;28mlen\u001b[39m(args) \u001b[38;5;241m>\u001b[39m num_allow_args:\n\u001b[1;32m    306\u001b[0m     warnings\u001b[38;5;241m.\u001b[39mwarn(\n\u001b[1;32m    307\u001b[0m         msg\u001b[38;5;241m.\u001b[39mformat(arguments\u001b[38;5;241m=\u001b[39marguments),\n\u001b[1;32m    308\u001b[0m         \u001b[38;5;167;01mFutureWarning\u001b[39;00m,\n\u001b[1;32m    309\u001b[0m         stacklevel\u001b[38;5;241m=\u001b[39mstacklevel,\n\u001b[1;32m    310\u001b[0m     )\n\u001b[0;32m--> 311\u001b[0m \u001b[38;5;28;01mreturn\u001b[39;00m \u001b[43mfunc\u001b[49m\u001b[43m(\u001b[49m\u001b[38;5;241;43m*\u001b[39;49m\u001b[43margs\u001b[49m\u001b[43m,\u001b[49m\u001b[43m \u001b[49m\u001b[38;5;241;43m*\u001b[39;49m\u001b[38;5;241;43m*\u001b[39;49m\u001b[43mkwargs\u001b[49m\u001b[43m)\u001b[49m\n",
      "File \u001b[0;32m~/opt/anaconda3/envs/pt/lib/python3.10/site-packages/pandas/io/parsers/readers.py:678\u001b[0m, in \u001b[0;36mread_csv\u001b[0;34m(filepath_or_buffer, sep, delimiter, header, names, index_col, usecols, squeeze, prefix, mangle_dupe_cols, dtype, engine, converters, true_values, false_values, skipinitialspace, skiprows, skipfooter, nrows, na_values, keep_default_na, na_filter, verbose, skip_blank_lines, parse_dates, infer_datetime_format, keep_date_col, date_parser, dayfirst, cache_dates, iterator, chunksize, compression, thousands, decimal, lineterminator, quotechar, quoting, doublequote, escapechar, comment, encoding, encoding_errors, dialect, error_bad_lines, warn_bad_lines, on_bad_lines, delim_whitespace, low_memory, memory_map, float_precision, storage_options)\u001b[0m\n\u001b[1;32m    663\u001b[0m kwds_defaults \u001b[38;5;241m=\u001b[39m _refine_defaults_read(\n\u001b[1;32m    664\u001b[0m     dialect,\n\u001b[1;32m    665\u001b[0m     delimiter,\n\u001b[0;32m   (...)\u001b[0m\n\u001b[1;32m    674\u001b[0m     defaults\u001b[38;5;241m=\u001b[39m{\u001b[38;5;124m\"\u001b[39m\u001b[38;5;124mdelimiter\u001b[39m\u001b[38;5;124m\"\u001b[39m: \u001b[38;5;124m\"\u001b[39m\u001b[38;5;124m,\u001b[39m\u001b[38;5;124m\"\u001b[39m},\n\u001b[1;32m    675\u001b[0m )\n\u001b[1;32m    676\u001b[0m kwds\u001b[38;5;241m.\u001b[39mupdate(kwds_defaults)\n\u001b[0;32m--> 678\u001b[0m \u001b[38;5;28;01mreturn\u001b[39;00m \u001b[43m_read\u001b[49m\u001b[43m(\u001b[49m\u001b[43mfilepath_or_buffer\u001b[49m\u001b[43m,\u001b[49m\u001b[43m \u001b[49m\u001b[43mkwds\u001b[49m\u001b[43m)\u001b[49m\n",
      "File \u001b[0;32m~/opt/anaconda3/envs/pt/lib/python3.10/site-packages/pandas/io/parsers/readers.py:575\u001b[0m, in \u001b[0;36m_read\u001b[0;34m(filepath_or_buffer, kwds)\u001b[0m\n\u001b[1;32m    572\u001b[0m _validate_names(kwds\u001b[38;5;241m.\u001b[39mget(\u001b[38;5;124m\"\u001b[39m\u001b[38;5;124mnames\u001b[39m\u001b[38;5;124m\"\u001b[39m, \u001b[38;5;28;01mNone\u001b[39;00m))\n\u001b[1;32m    574\u001b[0m \u001b[38;5;66;03m# Create the parser.\u001b[39;00m\n\u001b[0;32m--> 575\u001b[0m parser \u001b[38;5;241m=\u001b[39m \u001b[43mTextFileReader\u001b[49m\u001b[43m(\u001b[49m\u001b[43mfilepath_or_buffer\u001b[49m\u001b[43m,\u001b[49m\u001b[43m \u001b[49m\u001b[38;5;241;43m*\u001b[39;49m\u001b[38;5;241;43m*\u001b[39;49m\u001b[43mkwds\u001b[49m\u001b[43m)\u001b[49m\n\u001b[1;32m    577\u001b[0m \u001b[38;5;28;01mif\u001b[39;00m chunksize \u001b[38;5;129;01mor\u001b[39;00m iterator:\n\u001b[1;32m    578\u001b[0m     \u001b[38;5;28;01mreturn\u001b[39;00m parser\n",
      "File \u001b[0;32m~/opt/anaconda3/envs/pt/lib/python3.10/site-packages/pandas/io/parsers/readers.py:932\u001b[0m, in \u001b[0;36mTextFileReader.__init__\u001b[0;34m(self, f, engine, **kwds)\u001b[0m\n\u001b[1;32m    929\u001b[0m     \u001b[38;5;28mself\u001b[39m\u001b[38;5;241m.\u001b[39moptions[\u001b[38;5;124m\"\u001b[39m\u001b[38;5;124mhas_index_names\u001b[39m\u001b[38;5;124m\"\u001b[39m] \u001b[38;5;241m=\u001b[39m kwds[\u001b[38;5;124m\"\u001b[39m\u001b[38;5;124mhas_index_names\u001b[39m\u001b[38;5;124m\"\u001b[39m]\n\u001b[1;32m    931\u001b[0m \u001b[38;5;28mself\u001b[39m\u001b[38;5;241m.\u001b[39mhandles: IOHandles \u001b[38;5;241m|\u001b[39m \u001b[38;5;28;01mNone\u001b[39;00m \u001b[38;5;241m=\u001b[39m \u001b[38;5;28;01mNone\u001b[39;00m\n\u001b[0;32m--> 932\u001b[0m \u001b[38;5;28mself\u001b[39m\u001b[38;5;241m.\u001b[39m_engine \u001b[38;5;241m=\u001b[39m \u001b[38;5;28;43mself\u001b[39;49m\u001b[38;5;241;43m.\u001b[39;49m\u001b[43m_make_engine\u001b[49m\u001b[43m(\u001b[49m\u001b[43mf\u001b[49m\u001b[43m,\u001b[49m\u001b[43m \u001b[49m\u001b[38;5;28;43mself\u001b[39;49m\u001b[38;5;241;43m.\u001b[39;49m\u001b[43mengine\u001b[49m\u001b[43m)\u001b[49m\n",
      "File \u001b[0;32m~/opt/anaconda3/envs/pt/lib/python3.10/site-packages/pandas/io/parsers/readers.py:1216\u001b[0m, in \u001b[0;36mTextFileReader._make_engine\u001b[0;34m(self, f, engine)\u001b[0m\n\u001b[1;32m   1212\u001b[0m     mode \u001b[38;5;241m=\u001b[39m \u001b[38;5;124m\"\u001b[39m\u001b[38;5;124mrb\u001b[39m\u001b[38;5;124m\"\u001b[39m\n\u001b[1;32m   1213\u001b[0m \u001b[38;5;66;03m# error: No overload variant of \"get_handle\" matches argument types\u001b[39;00m\n\u001b[1;32m   1214\u001b[0m \u001b[38;5;66;03m# \"Union[str, PathLike[str], ReadCsvBuffer[bytes], ReadCsvBuffer[str]]\"\u001b[39;00m\n\u001b[1;32m   1215\u001b[0m \u001b[38;5;66;03m# , \"str\", \"bool\", \"Any\", \"Any\", \"Any\", \"Any\", \"Any\"\u001b[39;00m\n\u001b[0;32m-> 1216\u001b[0m \u001b[38;5;28mself\u001b[39m\u001b[38;5;241m.\u001b[39mhandles \u001b[38;5;241m=\u001b[39m \u001b[43mget_handle\u001b[49m\u001b[43m(\u001b[49m\u001b[43m  \u001b[49m\u001b[38;5;66;43;03m# type: ignore[call-overload]\u001b[39;49;00m\n\u001b[1;32m   1217\u001b[0m \u001b[43m    \u001b[49m\u001b[43mf\u001b[49m\u001b[43m,\u001b[49m\n\u001b[1;32m   1218\u001b[0m \u001b[43m    \u001b[49m\u001b[43mmode\u001b[49m\u001b[43m,\u001b[49m\n\u001b[1;32m   1219\u001b[0m \u001b[43m    \u001b[49m\u001b[43mencoding\u001b[49m\u001b[38;5;241;43m=\u001b[39;49m\u001b[38;5;28;43mself\u001b[39;49m\u001b[38;5;241;43m.\u001b[39;49m\u001b[43moptions\u001b[49m\u001b[38;5;241;43m.\u001b[39;49m\u001b[43mget\u001b[49m\u001b[43m(\u001b[49m\u001b[38;5;124;43m\"\u001b[39;49m\u001b[38;5;124;43mencoding\u001b[39;49m\u001b[38;5;124;43m\"\u001b[39;49m\u001b[43m,\u001b[49m\u001b[43m \u001b[49m\u001b[38;5;28;43;01mNone\u001b[39;49;00m\u001b[43m)\u001b[49m\u001b[43m,\u001b[49m\n\u001b[1;32m   1220\u001b[0m \u001b[43m    \u001b[49m\u001b[43mcompression\u001b[49m\u001b[38;5;241;43m=\u001b[39;49m\u001b[38;5;28;43mself\u001b[39;49m\u001b[38;5;241;43m.\u001b[39;49m\u001b[43moptions\u001b[49m\u001b[38;5;241;43m.\u001b[39;49m\u001b[43mget\u001b[49m\u001b[43m(\u001b[49m\u001b[38;5;124;43m\"\u001b[39;49m\u001b[38;5;124;43mcompression\u001b[39;49m\u001b[38;5;124;43m\"\u001b[39;49m\u001b[43m,\u001b[49m\u001b[43m \u001b[49m\u001b[38;5;28;43;01mNone\u001b[39;49;00m\u001b[43m)\u001b[49m\u001b[43m,\u001b[49m\n\u001b[1;32m   1221\u001b[0m \u001b[43m    \u001b[49m\u001b[43mmemory_map\u001b[49m\u001b[38;5;241;43m=\u001b[39;49m\u001b[38;5;28;43mself\u001b[39;49m\u001b[38;5;241;43m.\u001b[39;49m\u001b[43moptions\u001b[49m\u001b[38;5;241;43m.\u001b[39;49m\u001b[43mget\u001b[49m\u001b[43m(\u001b[49m\u001b[38;5;124;43m\"\u001b[39;49m\u001b[38;5;124;43mmemory_map\u001b[39;49m\u001b[38;5;124;43m\"\u001b[39;49m\u001b[43m,\u001b[49m\u001b[43m \u001b[49m\u001b[38;5;28;43;01mFalse\u001b[39;49;00m\u001b[43m)\u001b[49m\u001b[43m,\u001b[49m\n\u001b[1;32m   1222\u001b[0m \u001b[43m    \u001b[49m\u001b[43mis_text\u001b[49m\u001b[38;5;241;43m=\u001b[39;49m\u001b[43mis_text\u001b[49m\u001b[43m,\u001b[49m\n\u001b[1;32m   1223\u001b[0m \u001b[43m    \u001b[49m\u001b[43merrors\u001b[49m\u001b[38;5;241;43m=\u001b[39;49m\u001b[38;5;28;43mself\u001b[39;49m\u001b[38;5;241;43m.\u001b[39;49m\u001b[43moptions\u001b[49m\u001b[38;5;241;43m.\u001b[39;49m\u001b[43mget\u001b[49m\u001b[43m(\u001b[49m\u001b[38;5;124;43m\"\u001b[39;49m\u001b[38;5;124;43mencoding_errors\u001b[39;49m\u001b[38;5;124;43m\"\u001b[39;49m\u001b[43m,\u001b[49m\u001b[43m \u001b[49m\u001b[38;5;124;43m\"\u001b[39;49m\u001b[38;5;124;43mstrict\u001b[39;49m\u001b[38;5;124;43m\"\u001b[39;49m\u001b[43m)\u001b[49m\u001b[43m,\u001b[49m\n\u001b[1;32m   1224\u001b[0m \u001b[43m    \u001b[49m\u001b[43mstorage_options\u001b[49m\u001b[38;5;241;43m=\u001b[39;49m\u001b[38;5;28;43mself\u001b[39;49m\u001b[38;5;241;43m.\u001b[39;49m\u001b[43moptions\u001b[49m\u001b[38;5;241;43m.\u001b[39;49m\u001b[43mget\u001b[49m\u001b[43m(\u001b[49m\u001b[38;5;124;43m\"\u001b[39;49m\u001b[38;5;124;43mstorage_options\u001b[39;49m\u001b[38;5;124;43m\"\u001b[39;49m\u001b[43m,\u001b[49m\u001b[43m \u001b[49m\u001b[38;5;28;43;01mNone\u001b[39;49;00m\u001b[43m)\u001b[49m\u001b[43m,\u001b[49m\n\u001b[1;32m   1225\u001b[0m \u001b[43m\u001b[49m\u001b[43m)\u001b[49m\n\u001b[1;32m   1226\u001b[0m \u001b[38;5;28;01massert\u001b[39;00m \u001b[38;5;28mself\u001b[39m\u001b[38;5;241m.\u001b[39mhandles \u001b[38;5;129;01mis\u001b[39;00m \u001b[38;5;129;01mnot\u001b[39;00m \u001b[38;5;28;01mNone\u001b[39;00m\n\u001b[1;32m   1227\u001b[0m f \u001b[38;5;241m=\u001b[39m \u001b[38;5;28mself\u001b[39m\u001b[38;5;241m.\u001b[39mhandles\u001b[38;5;241m.\u001b[39mhandle\n",
      "File \u001b[0;32m~/opt/anaconda3/envs/pt/lib/python3.10/site-packages/pandas/io/common.py:786\u001b[0m, in \u001b[0;36mget_handle\u001b[0;34m(path_or_buf, mode, encoding, compression, memory_map, is_text, errors, storage_options)\u001b[0m\n\u001b[1;32m    781\u001b[0m \u001b[38;5;28;01melif\u001b[39;00m \u001b[38;5;28misinstance\u001b[39m(handle, \u001b[38;5;28mstr\u001b[39m):\n\u001b[1;32m    782\u001b[0m     \u001b[38;5;66;03m# Check whether the filename is to be opened in binary mode.\u001b[39;00m\n\u001b[1;32m    783\u001b[0m     \u001b[38;5;66;03m# Binary mode does not support 'encoding' and 'newline'.\u001b[39;00m\n\u001b[1;32m    784\u001b[0m     \u001b[38;5;28;01mif\u001b[39;00m ioargs\u001b[38;5;241m.\u001b[39mencoding \u001b[38;5;129;01mand\u001b[39;00m \u001b[38;5;124m\"\u001b[39m\u001b[38;5;124mb\u001b[39m\u001b[38;5;124m\"\u001b[39m \u001b[38;5;129;01mnot\u001b[39;00m \u001b[38;5;129;01min\u001b[39;00m ioargs\u001b[38;5;241m.\u001b[39mmode:\n\u001b[1;32m    785\u001b[0m         \u001b[38;5;66;03m# Encoding\u001b[39;00m\n\u001b[0;32m--> 786\u001b[0m         handle \u001b[38;5;241m=\u001b[39m \u001b[38;5;28;43mopen\u001b[39;49m\u001b[43m(\u001b[49m\n\u001b[1;32m    787\u001b[0m \u001b[43m            \u001b[49m\u001b[43mhandle\u001b[49m\u001b[43m,\u001b[49m\n\u001b[1;32m    788\u001b[0m \u001b[43m            \u001b[49m\u001b[43mioargs\u001b[49m\u001b[38;5;241;43m.\u001b[39;49m\u001b[43mmode\u001b[49m\u001b[43m,\u001b[49m\n\u001b[1;32m    789\u001b[0m \u001b[43m            \u001b[49m\u001b[43mencoding\u001b[49m\u001b[38;5;241;43m=\u001b[39;49m\u001b[43mioargs\u001b[49m\u001b[38;5;241;43m.\u001b[39;49m\u001b[43mencoding\u001b[49m\u001b[43m,\u001b[49m\n\u001b[1;32m    790\u001b[0m \u001b[43m            \u001b[49m\u001b[43merrors\u001b[49m\u001b[38;5;241;43m=\u001b[39;49m\u001b[43merrors\u001b[49m\u001b[43m,\u001b[49m\n\u001b[1;32m    791\u001b[0m \u001b[43m            \u001b[49m\u001b[43mnewline\u001b[49m\u001b[38;5;241;43m=\u001b[39;49m\u001b[38;5;124;43m\"\u001b[39;49m\u001b[38;5;124;43m\"\u001b[39;49m\u001b[43m,\u001b[49m\n\u001b[1;32m    792\u001b[0m \u001b[43m        \u001b[49m\u001b[43m)\u001b[49m\n\u001b[1;32m    793\u001b[0m     \u001b[38;5;28;01melse\u001b[39;00m:\n\u001b[1;32m    794\u001b[0m         \u001b[38;5;66;03m# Binary mode\u001b[39;00m\n\u001b[1;32m    795\u001b[0m         handle \u001b[38;5;241m=\u001b[39m \u001b[38;5;28mopen\u001b[39m(handle, ioargs\u001b[38;5;241m.\u001b[39mmode)\n",
      "\u001b[0;31mFileNotFoundError\u001b[0m: [Errno 2] No such file or directory: 'train_pred_probs/amzn-tab-trans.csv'"
     ]
    }
   ],
   "source": [
    "# load libraries\n",
    "import numpy as np\n",
    "import matplotlib.pyplot as plt\n",
    "import pandas as pd\n",
    "import seaborn as sns\n",
    "import os\n",
    "import warnings\n",
    "from sklearn.model_selection import train_test_split\n",
    "from sklearn.metrics import log_loss\n",
    "warnings.filterwarnings('ignore')\n",
    "\n",
    "# load validation results\n",
    "TABTR_VAL_PROBS = pd.read_csv('val_pred_probs/amzn-tab-trans.csv').to_numpy()\n",
    "SVM_VAL_PROBS = pd.read_csv('val_pred_probs/svm-tuned.csv').to_numpy()\n",
    "XGB_VAL_PROBS = pd.read_csv('val_pred_probs/xgboost-tuned.csv').to_numpy()\n",
    "\n",
    "# load training results\n",
    "TABTR_TRAIN_PROBS = pd.read_csv('train_pred_probs/amzn-tab-trans.csv').to_numpy()\n",
    "SVM_TRAIN_PROBS = pd.read_csv('train_pred_probs/svm-tuned.csv').to_numpy()\n",
    "XGB_TRAIN_PROBS = pd.read_csv('train_pred_probs/xgboost-tuned.csv').to_numpy()\n",
    "\n",
    "# include paths to data from local storage location\n",
    "TRAIN_DATA = os.environ['DATAFILES_PATH'] + '/ICR_Competition/' + 'train.csv'\n",
    "\n",
    "# load training data\n",
    "train_df = pd.read_csv(TRAIN_DATA)\n",
    "\n",
    "# allocate\n",
    "X = train_df.drop(columns=['Class', 'Id'])\n",
    "X = pd.get_dummies(X, drop_first=True)\n",
    "\n",
    "y = train_df['Class'].astype(int)\n",
    "\n",
    "# train-validation split \n",
    "X_train_raw, X_val, y_train_raw, y_val = train_test_split(X, y, test_size=0.20, random_state=42)\n",
    "\n",
    "X_val['EJ_B'].fillna(value=X_train_raw['EJ_B'].mode())\n",
    "X_val = X_val.fillna(value=X_train_raw.mean())\n",
    "\n",
    "X_train_raw['EJ_B'].fillna(value=X_train_raw['EJ_B'].mode())\n",
    "X_train_raw = X_train_raw.fillna(value=X_train_raw.mean())\n",
    "\n",
    "# over sample the diagnosed patients in training set\n",
    "oversample = SMOTE(random_state=77, sampling_strategy='minority')\n",
    "X_train, y_train = oversample.fit_resample(X_train_raw, y_train_raw)\n",
    "\n",
    "# shuffle (in case the model choice may be impacted by ordering)\n",
    "np.random.seed(77)\n",
    "shuff_ind = np.random.choice(len(y_train), len(y_train), replace=False)\n",
    "\n",
    "X_train = X_train.iloc[shuff_ind,]\n",
    "y_train = y_train.iloc[shuff_ind,]"
   ]
  },
  {
   "cell_type": "markdown",
   "id": "b257aba8",
   "metadata": {},
   "source": [
    "Define Balanced Logarithmic Loss Function"
   ]
  },
  {
   "cell_type": "code",
   "execution_count": 2,
   "id": "bafbe217",
   "metadata": {},
   "outputs": [],
   "source": [
    "def bal_log_loss(p, y):\n",
    "    ind0 = np.where(y==0)[0]\n",
    "    ind1 = np.where(y==1)[0]\n",
    "    \n",
    "    N0 = len(ind0)\n",
    "    N1 = len(ind1)\n",
    "    \n",
    "    y0 = (y==0).astype(int)\n",
    "    y1 = y.astype(int)\n",
    "    \n",
    "    return (- np.sum(y0*np.log(p[:, 0]))/N0 - np.sum(y1*np.log(p[:, 1]))/N1) / 2"
   ]
  },
  {
   "cell_type": "markdown",
   "id": "6f8242a5",
   "metadata": {},
   "source": [
    "Compare individual validation results from each model."
   ]
  },
  {
   "cell_type": "code",
   "execution_count": 3,
   "id": "0b884c02",
   "metadata": {},
   "outputs": [
    {
     "name": "stdout",
     "output_type": "stream",
     "text": [
      "***************************************************************************\n",
      "***************************************************************************\n",
      "Test Accuracy for TabTransformer: 0.9113\n",
      "Testing Balanced Logarithmic Loss for TabTransformer: 0.4894\n",
      "***************************************************************************\n",
      "***************************************************************************\n",
      "Test Accuracy for SVM: 0.9113\n",
      "Testing Balanced Logarithmic Loss for SVM: 0.4894\n",
      "***************************************************************************\n",
      "***************************************************************************\n",
      "Test Accuracy for XGBoost: 0.9677\n",
      "Testing Balanced Logarithmic Loss for XGBoost: 0.2356\n",
      "***************************************************************************\n",
      "***************************************************************************\n"
     ]
    }
   ],
   "source": [
    "acc = np.mean(np.argmax(SVM_VAL_PROBS, 1)==y_val)\n",
    "bll = bal_log_loss(SVM_VAL_PROBS, y_val)\n",
    "\n",
    "print(75*\"*\")\n",
    "print(75*\"*\")\n",
    "print(f'Test Accuracy for TabTransformer: {acc:.4f}')\n",
    "print(f'Testing Balanced Logarithmic Loss for TabTransformer: {bll:.4f}')\n",
    "print(75*\"*\")\n",
    "\n",
    "acc = np.mean(np.argmax(SVM_VAL_PROBS, 1)==y_val)\n",
    "bll = bal_log_loss(SVM_VAL_PROBS, y_val)\n",
    "\n",
    "print(75*\"*\")\n",
    "print(f'Test Accuracy for SVM: {acc:.4f}')\n",
    "print(f'Testing Balanced Logarithmic Loss for SVM: {bll:.4f}')\n",
    "print(75*\"*\")\n",
    "\n",
    "acc = np.mean(np.argmax(XGB_VAL_PROBS, 1)==y_val)\n",
    "bll = bal_log_loss(XGB_VAL_PROBS, y_val)\n",
    "\n",
    "print(75*\"*\")\n",
    "print(f'Test Accuracy for XGBoost: {acc:.4f}')\n",
    "print(f'Testing Balanced Logarithmic Loss for XGBoost: {bll:.4f}')\n",
    "print(75*\"*\")\n",
    "print(75*\"*\")"
   ]
  },
  {
   "cell_type": "markdown",
   "id": "4f0667a1",
   "metadata": {},
   "source": [
    "Try combining the output probabilites to create the *ensemble* model. First we try averaging the probability outputs from our models."
   ]
  },
  {
   "cell_type": "code",
   "execution_count": 29,
   "id": "1dc41c8f",
   "metadata": {},
   "outputs": [
    {
     "name": "stdout",
     "output_type": "stream",
     "text": [
      "Test Accuracy for Averaging Ensemble: 0.9677\n",
      "Testing Balanced Logarithmic Loss for Averaging Ensemble: 0.2999\n"
     ]
    }
   ],
   "source": [
    "# concatenate the probability of positives from each model (train set)\n",
    "train_probs_df = np.concatenate((TABTR_TRAIN_PROBS[:. 1:], SVM_TRAIN_PROBS[:, 1:], XGB_TRAIN_PROBS[:, 1:]), axis=1)\n",
    "\n",
    "# concatenate the probability of positives from each model (validation set)\n",
    "val_probs_df = np.concatenate((TABTR_VAL_PROBS[:. 1:], SVM_VAL_PROBS[:, 1:], XGB_VAL_PROBS[:, 1:]), axis=1)\n",
    "\n",
    "# averaging results\n",
    "final_probs_avging = np.mean(val_probs_df, axis=1)[:, np.newaxis]\n",
    "final_probs_avging = np.concatenate((1-final_probs_avging, final_probs_avging), axis=1)\n",
    "\n",
    "# check new accuracy\n",
    "acc = np.mean(np.argmax(final_probs_avging, 1)==y_val)\n",
    "\n",
    "# check new balanced logarithmic loss\n",
    "bll = bal_log_loss(final_probs_avging, y_val)\n",
    "\n",
    "print(f'Test Accuracy for Averaging Ensemble: {acc:.4f}')\n",
    "print(f'Testing Balanced Logarithmic Loss for Averaging Ensemble: {bll:.4f}')"
   ]
  },
  {
   "cell_type": "markdown",
   "id": "21f5a1a1",
   "metadata": {},
   "source": [
    "Second, we try using logistic regression to generate a new probabilty estimate from the transformation of the linear combination of the outputs."
   ]
  },
  {
   "cell_type": "code",
   "execution_count": 37,
   "id": "dc3a4c1f",
   "metadata": {},
   "outputs": [
    {
     "name": "stdout",
     "output_type": "stream",
     "text": [
      "Test Accuracy for Logistic Regression Ensemble: 0.9597\n",
      "Testing Balanced Logarithmic Loss for Logistic Regression Ensemble: 0.2403\n"
     ]
    }
   ],
   "source": [
    "from sklearn.linear_model import LogisticRegression\n",
    "\n",
    "lr_mod = LogisticRegression(penalty='none')\n",
    "lr_mod.fit(train_probs_df, y_train)\n",
    "\n",
    "# collect new validation probabilities \n",
    "probs = lr_mod.predict_proba(val_probs_df)\n",
    "\n",
    "# collect new validation accuracy \n",
    "acc = np.mean(np.argmax(probs, 1) == y_val)\n",
    "\n",
    "# collect new validation balanced logarithmic loss\n",
    "bll = bal_log_loss(probs, y_val)\n",
    "\n",
    "print(f'Test Accuracy for Logistic Regression Ensemble: {acc:.4f}')\n",
    "print(f'Testing Balanced Logarithmic Loss for Logistic Regression Ensemble: {bll:.4f}')"
   ]
  },
  {
   "cell_type": "markdown",
   "id": "aeb0c0c5",
   "metadata": {},
   "source": [
    "We can see above that the probability outputs from the ensemble demonstrates a small balanced logarithmic loss at about 0.2403."
   ]
  },
  {
   "cell_type": "markdown",
   "id": "c3fa20b1",
   "metadata": {},
   "source": [
    "### Output Probabilties \n",
    "\n",
    "We now generate the probabilites for the test set (for submission)."
   ]
  },
  {
   "cell_type": "code",
   "execution_count": 16,
   "id": "c2aedb24",
   "metadata": {},
   "outputs": [],
   "source": [
    "# load test set results\n",
    "TABTR_TEST_PROBS = pd.read_csv('test_pred_probs/amzn-tab-trans.csv').to_numpy()\n",
    "SVM_TEST_PROBS = pd.read_csv('test_pred_probs/svm-tuned.csv').to_numpy()\n",
    "XGB_TEST_PROBS = pd.read_csv('test_pred_probs/xgboost-tuned.csv').to_numpy()\n",
    "\n",
    "# concatenate the probability of positives from each model (test set)\n",
    "test_probs_df = np.concatenate((TABTR_TEST_PROBS[:. 1:], SVM_TEST_PROBS[:, 1:], XGB_TEST_PROBS[:, 1:]), axis=1)\n",
    "\n",
    "# collect test probabilities \n",
    "probs = lr_mod.predict_proba(test_probs_df)\n",
    "\n",
    "# store the test-set predictions in csv format, locally.\n",
    "pd.DataFrame(probs).to_csv(\"test_pred_probs/log-reg-ensemble.csv\", header=True, index=False)"
   ]
  }
 ],
 "metadata": {
  "kernelspec": {
   "display_name": "Python 3 (ipykernel)",
   "language": "python",
   "name": "python3"
  },
  "language_info": {
   "codemirror_mode": {
    "name": "ipython",
    "version": 3
   },
   "file_extension": ".py",
   "mimetype": "text/x-python",
   "name": "python",
   "nbconvert_exporter": "python",
   "pygments_lexer": "ipython3",
   "version": "3.10.9"
  }
 },
 "nbformat": 4,
 "nbformat_minor": 5
}
